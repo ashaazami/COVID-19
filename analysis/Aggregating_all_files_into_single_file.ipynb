{
 "cells": [
  {
   "cell_type": "code",
   "execution_count": 135,
   "metadata": {},
   "outputs": [],
   "source": [
    "import pandas as pd\n",
    "import os\n",
    "from os.path import isfile, join\n",
    "from datetime import datetime\n",
    "import matplotlib.pyplot as plt"
   ]
  },
  {
   "cell_type": "code",
   "execution_count": 194,
   "metadata": {},
   "outputs": [],
   "source": [
    "covid_folder = '../csse_covid_19_data/csse_covid_19_daily_reports/'\n",
    "covid_files = [os.path.join(covid_folder,f) for f in os.listdir(covid_folder) if isfile(join(covid_folder, f)) and f.endswith('.csv')]"
   ]
  },
  {
   "cell_type": "code",
   "execution_count": 195,
   "metadata": {},
   "outputs": [],
   "source": [
    "all_data =[]\n",
    "for file in covid_files:\n",
    "    df= pd.read_csv(file)\n",
    "    df.head()\n",
    "    head, tail = os.path.split(file)\n",
    "    date=datetime.strptime(tail[0:-4], '%m-%d-%Y')\n",
    "    df['Date']=date\n",
    "    df=df.rename(columns={'Country/Region':'Country'})\n",
    "    col_to_remove=set(df.columns).intersection(['Last Update', 'Latitude', 'Longitude'])\n",
    "    df=df.drop(columns=col_to_remove)\n",
    "    all_data.append(df)\n",
    "all_df = pd.concat(all_data, sort=False).sort_values(by='Date', ascending=True)"
   ]
  },
  {
   "cell_type": "code",
   "execution_count": 196,
   "metadata": {},
   "outputs": [
    {
     "data": {
      "text/html": [
       "<div>\n",
       "<style scoped>\n",
       "    .dataframe tbody tr th:only-of-type {\n",
       "        vertical-align: middle;\n",
       "    }\n",
       "\n",
       "    .dataframe tbody tr th {\n",
       "        vertical-align: top;\n",
       "    }\n",
       "\n",
       "    .dataframe thead th {\n",
       "        text-align: right;\n",
       "    }\n",
       "</style>\n",
       "<table border=\"1\" class=\"dataframe\">\n",
       "  <thead>\n",
       "    <tr style=\"text-align: right;\">\n",
       "      <th></th>\n",
       "      <th>Date</th>\n",
       "      <th>Country</th>\n",
       "      <th>Confirmed</th>\n",
       "      <th>Deaths</th>\n",
       "      <th>Recovered</th>\n",
       "    </tr>\n",
       "  </thead>\n",
       "  <tbody>\n",
       "    <tr>\n",
       "      <th>0</th>\n",
       "      <td>2020-03-15</td>\n",
       "      <td>China</td>\n",
       "      <td>81003.0</td>\n",
       "      <td>3203.0</td>\n",
       "      <td>67017.0</td>\n",
       "    </tr>\n",
       "    <tr>\n",
       "      <th>1</th>\n",
       "      <td>2020-03-15</td>\n",
       "      <td>Italy</td>\n",
       "      <td>24747.0</td>\n",
       "      <td>1809.0</td>\n",
       "      <td>2335.0</td>\n",
       "    </tr>\n",
       "    <tr>\n",
       "      <th>2</th>\n",
       "      <td>2020-03-15</td>\n",
       "      <td>Iran</td>\n",
       "      <td>13938.0</td>\n",
       "      <td>724.0</td>\n",
       "      <td>4590.0</td>\n",
       "    </tr>\n",
       "    <tr>\n",
       "      <th>3</th>\n",
       "      <td>2020-03-15</td>\n",
       "      <td>Spain</td>\n",
       "      <td>7798.0</td>\n",
       "      <td>289.0</td>\n",
       "      <td>517.0</td>\n",
       "    </tr>\n",
       "    <tr>\n",
       "      <th>4</th>\n",
       "      <td>2020-03-15</td>\n",
       "      <td>France</td>\n",
       "      <td>4513.0</td>\n",
       "      <td>91.0</td>\n",
       "      <td>12.0</td>\n",
       "    </tr>\n",
       "  </tbody>\n",
       "</table>\n",
       "</div>"
      ],
      "text/plain": [
       "        Date Country  Confirmed  Deaths  Recovered\n",
       "0 2020-03-15   China    81003.0  3203.0    67017.0\n",
       "1 2020-03-15   Italy    24747.0  1809.0     2335.0\n",
       "2 2020-03-15    Iran    13938.0   724.0     4590.0\n",
       "3 2020-03-15   Spain     7798.0   289.0      517.0\n",
       "4 2020-03-15  France     4513.0    91.0       12.0"
      ]
     },
     "execution_count": 196,
     "metadata": {},
     "output_type": "execute_result"
    }
   ],
   "source": [
    "country_aggregated=all_df.groupby(by=['Date', 'Country']).agg('sum')\n",
    "country_aggregated.sort_values(by=['Date', 'Deaths'] , ascending=[False, False], inplace=True)\n",
    "country_aggregated.reset_index(inplace=True)\n",
    "country_aggregated.head()"
   ]
  },
  {
   "cell_type": "code",
   "execution_count": null,
   "metadata": {},
   "outputs": [],
   "source": [
    "def get_country_timeseries(df, country):\n",
    "    result = df[(df['Country']==country) & (df['Date']<='2020-03-10')]\n",
    "    result.sort_values(by=['Date'], ascending= True , inplace=True)\n",
    "    result['Death_per_day']= result['Deaths'].diff()\n",
    "    result['Death_per_day']= result['Death_per_day'].rolling(3,center=True).mean()\n",
    "    return result"
   ]
  },
  {
   "cell_type": "code",
   "execution_count": null,
   "metadata": {},
   "outputs": [],
   "source": [
    "us = get_country_timeseries(country_aggregated, 'US')\n",
    "italy = get_country_timeseries(country_aggregated, 'Italy')\n",
    "china = get_country_timeseries(country_aggregated, 'Mainland China')\n",
    "iran= get_country_timeseries(country_aggregated, 'Iran')"
   ]
  },
  {
   "cell_type": "code",
   "execution_count": 231,
   "metadata": {},
   "outputs": [
    {
     "data": {
      "text/plain": [
       "<matplotlib.axes._subplots.AxesSubplot at 0x21cb8c93978>"
      ]
     },
     "execution_count": 231,
     "metadata": {},
     "output_type": "execute_result"
    },
    {
     "data": {
      "image/png": "[encoded data removed]",
      "text/plain": [
       "<Figure size 432x288 with 1 Axes>"
      ]
     },
     "metadata": {
      "needs_background": "light"
     },
     "output_type": "display_data"
    }
   ],
   "source": [
    "plt.figure()\n",
    "ax = plt.gca()\n",
    "line =italy.plot(x='Date', y='Death_per_day', ax=ax, label='Italy')\n",
    "ax.legend()\n",
    "us.plot(x='Date', y='Death_per_day', ax=ax, label='US')\n",
    "china.plot(x='Date', y='Death_per_day', ax=ax, label='China')\n",
    "iran.plot(x='Date', y='Death_per_day', ax=ax, label='Iran')\n"
   ]
  },
  {
   "cell_type": "code",
   "execution_count": null,
   "metadata": {},
   "outputs": [],
   "source": []
  },
  {
   "cell_type": "code",
   "execution_count": null,
   "metadata": {},
   "outputs": [],
   "source": []
  }
 ],
 "metadata": {
  "kernelspec": {
   "display_name": "Python 3",
   "language": "python",
   "name": "python3"
  },
  "language_info": {
   "codemirror_mode": {
    "name": "ipython",
    "version": 3
   },
   "file_extension": ".py",
   "mimetype": "text/x-python",
   "name": "python",
   "nbconvert_exporter": "python",
   "pygments_lexer": "ipython3",
   "version": "3.7.3"
  }
 },
 "nbformat": 4,
 "nbformat_minor": 2
}
