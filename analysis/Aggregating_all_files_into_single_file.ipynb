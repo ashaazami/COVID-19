{
 "cells": [
  {
   "cell_type": "code",
   "execution_count": 1,
   "metadata": {},
   "outputs": [],
   "source": [
    "import pandas as pd\n",
    "import os\n",
    "from os.path import isfile, join\n",
    "import datetime\n",
    "import matplotlib.pyplot as plt\n",
    "from scipy.stats import norm\n",
    "import numpy as np\n",
    "\n",
    "import warnings\n",
    "warnings.filterwarnings(\"ignore\")"
   ]
  },
  {
   "cell_type": "code",
   "execution_count": 2,
   "metadata": {},
   "outputs": [],
   "source": [
    "covid_folder = '../csse_covid_19_data/csse_covid_19_daily_reports/'\n",
    "covid_files = [os.path.join(covid_folder,f) for f in os.listdir(covid_folder) if isfile(join(covid_folder, f)) and f.endswith('.csv')]"
   ]
  },
  {
   "cell_type": "code",
   "execution_count": 3,
   "metadata": {},
   "outputs": [],
   "source": [
    "def aggregate_data(covid_files):\n",
    "    all_data =[]\n",
    "    for file in covid_files:\n",
    "        df= pd.read_csv(file)\n",
    "        df.head()\n",
    "        head, tail = os.path.split(file)\n",
    "        date=datetime.datetime.strptime(tail[0:-4], '%m-%d-%Y')\n",
    "        df['Date']=date\n",
    "        df=df.rename(columns={'Country/Region':'Country'})\n",
    "        col_to_remove=set(df.columns).intersection(['Last Update', 'Latitude', 'Longitude'])\n",
    "        df=df.drop(columns=col_to_remove)\n",
    "        all_data.append(df)\n",
    "    \n",
    "    all_df = pd.concat(all_data, sort=False).sort_values(by='Date', ascending=True)\n",
    "    country_aggregated=all_df.groupby(by=['Date', 'Country']).agg('sum')\n",
    "    country_aggregated.sort_values(by=['Date', 'Deaths'] , ascending=[False, False], inplace=True)\n",
    "    country_aggregated.reset_index(inplace=True)\n",
    "    return country_aggregated"
   ]
  },
  {
   "cell_type": "code",
   "execution_count": 4,
   "metadata": {},
   "outputs": [],
   "source": [
    "def get_country_timeseries(df, countries, country_label):\n",
    "    df = df.copy()\n",
    "    result = df[(df['Country'].isin(list(countries))) ]\n",
    "    result['Country']= country_label\n",
    "    result=result.groupby(by=['Date', 'Country']).sum()\n",
    "    result.reset_index(inplace=True)\n",
    "    result.sort_values(by=['Date'], ascending= True , inplace=True)\n",
    "    result['Death_per_day']= result['Deaths'].diff()\n",
    "    start= result[((result['Death_per_day'] == 0) | (result['Death_per_day'].isna())) == False]['Date'].min()\n",
    "    result=result[result['Date']>= start]\n",
    "    result['Date_reset'] = (result['Date']-start).dt.days\n",
    "    max_death= result['Deaths'].max()\n",
    "    result['Death_per_day']=result['Death_per_day'].rolling(3, center=True).mean()\n",
    "    result['Death_per_day']= result['Death_per_day']\n",
    "    result.reset_index(inplace=True)\n",
    "    return result,start"
   ]
  },
  {
   "cell_type": "code",
   "execution_count": 5,
   "metadata": {},
   "outputs": [],
   "source": [
    "def plot_dist(data, label):\n",
    "    plt.figure()\n",
    "    ax=plt.gcf()\n",
    "    plt.bar(data['Date_reset'],data['Death_per_day'], label=label)\n",
    "    ax.legend()"
   ]
  },
  {
   "cell_type": "code",
   "execution_count": 6,
   "metadata": {},
   "outputs": [
    {
     "data": {
      "text/html": [
       "<div>\n",
       "<style scoped>\n",
       "    .dataframe tbody tr th:only-of-type {\n",
       "        vertical-align: middle;\n",
       "    }\n",
       "\n",
       "    .dataframe tbody tr th {\n",
       "        vertical-align: top;\n",
       "    }\n",
       "\n",
       "    .dataframe thead th {\n",
       "        text-align: right;\n",
       "    }\n",
       "</style>\n",
       "<table border=\"1\" class=\"dataframe\">\n",
       "  <thead>\n",
       "    <tr style=\"text-align: right;\">\n",
       "      <th></th>\n",
       "      <th>Date</th>\n",
       "      <th>Country</th>\n",
       "      <th>Confirmed</th>\n",
       "      <th>Deaths</th>\n",
       "      <th>Recovered</th>\n",
       "    </tr>\n",
       "  </thead>\n",
       "  <tbody>\n",
       "    <tr>\n",
       "      <th>0</th>\n",
       "      <td>2020-03-17</td>\n",
       "      <td>China</td>\n",
       "      <td>81058.0</td>\n",
       "      <td>3230.0</td>\n",
       "      <td>68798.0</td>\n",
       "    </tr>\n",
       "    <tr>\n",
       "      <th>1</th>\n",
       "      <td>2020-03-17</td>\n",
       "      <td>Italy</td>\n",
       "      <td>31506.0</td>\n",
       "      <td>2503.0</td>\n",
       "      <td>2941.0</td>\n",
       "    </tr>\n",
       "    <tr>\n",
       "      <th>2</th>\n",
       "      <td>2020-03-17</td>\n",
       "      <td>Iran</td>\n",
       "      <td>16169.0</td>\n",
       "      <td>988.0</td>\n",
       "      <td>5389.0</td>\n",
       "    </tr>\n",
       "    <tr>\n",
       "      <th>3</th>\n",
       "      <td>2020-03-17</td>\n",
       "      <td>Spain</td>\n",
       "      <td>11748.0</td>\n",
       "      <td>533.0</td>\n",
       "      <td>1028.0</td>\n",
       "    </tr>\n",
       "    <tr>\n",
       "      <th>4</th>\n",
       "      <td>2020-03-17</td>\n",
       "      <td>France</td>\n",
       "      <td>7683.0</td>\n",
       "      <td>148.0</td>\n",
       "      <td>12.0</td>\n",
       "    </tr>\n",
       "  </tbody>\n",
       "</table>\n",
       "</div>"
      ],
      "text/plain": [
       "        Date Country  Confirmed  Deaths  Recovered\n",
       "0 2020-03-17   China    81058.0  3230.0    68798.0\n",
       "1 2020-03-17   Italy    31506.0  2503.0     2941.0\n",
       "2 2020-03-17    Iran    16169.0   988.0     5389.0\n",
       "3 2020-03-17   Spain    11748.0   533.0     1028.0\n",
       "4 2020-03-17  France     7683.0   148.0       12.0"
      ]
     },
     "execution_count": 6,
     "metadata": {},
     "output_type": "execute_result"
    }
   ],
   "source": [
    "country_aggregated = aggregate_data(covid_files)\n",
    "\n",
    "country_aggregated.head()"
   ]
  },
  {
   "cell_type": "code",
   "execution_count": 7,
   "metadata": {},
   "outputs": [
    {
     "data": {
      "text/plain": [
       "<BarContainer object of 56 artists>"
      ]
     },
     "execution_count": 7,
     "metadata": {},
     "output_type": "execute_result"
    },
    {
     "data": {
      "image/png": "[encoded data removed]",
      "text/plain": [
       "<Figure size 432x288 with 1 Axes>"
      ]
     },
     "metadata": {
      "needs_background": "light"
     },
     "output_type": "display_data"
    }
   ],
   "source": [
    "aggregated=country_aggregated.groupby(by='Date').sum()\n",
    "aggregated.sort_values(by=['Date'], ascending= True , inplace=True)\n",
    "aggregated['Confirmed']=aggregated['Confirmed'].diff()\n",
    "aggregated['Deaths']=aggregated['Deaths'].diff()\n",
    "aggregated['Confirmed'] = aggregated['Confirmed']#.rolling(3,center=True).mean()\n",
    "aggregated.reset_index(inplace=True)\n",
    "plt.figure()\n",
    "plt.bar(aggregated['Date'], aggregated['Deaths'])"
   ]
  },
  {
   "cell_type": "code",
   "execution_count": 8,
   "metadata": {},
   "outputs": [],
   "source": [
    "us, us_start = get_country_timeseries(country_aggregated, ['US'], 'US')\n",
    "italy, italy_start = get_country_timeseries(country_aggregated, ['Italy'], 'Italy')\n",
    "china, china_start = get_country_timeseries(country_aggregated, ['Mainland China' , 'China'], 'China')\n",
    "iran, iran_start = get_country_timeseries(country_aggregated, ['Iran'], \"Iran\")"
   ]
  },
  {
   "cell_type": "code",
   "execution_count": 9,
   "metadata": {},
   "outputs": [
    {
     "data": {
      "image/png": "[encoded data removed]",
      "text/plain": [
       "<Figure size 432x288 with 1 Axes>"
      ]
     },
     "metadata": {
      "needs_background": "light"
     },
     "output_type": "display_data"
    },
    {
     "data": {
      "image/png": "[encoded data removed]",
      "text/plain": [
       "<Figure size 432x288 with 1 Axes>"
      ]
     },
     "metadata": {
      "needs_background": "light"
     },
     "output_type": "display_data"
    },
    {
     "data": {
      "image/png": "[encoded data removed]",
      "text/plain": [
       "<Figure size 432x288 with 1 Axes>"
      ]
     },
     "metadata": {
      "needs_background": "light"
     },
     "output_type": "display_data"
    },
    {
     "data": {
      "image/png": "[encoded data removed]",
      "text/plain": [
       "<Figure size 432x288 with 1 Axes>"
      ]
     },
     "metadata": {
      "needs_background": "light"
     },
     "output_type": "display_data"
    }
   ],
   "source": [
    "plot_dist(iran, \"Iran\")\n",
    "plot_dist(italy, \"Italy\")\n",
    "plot_dist(us, \"US\")\n",
    "plot_dist(china, \"China\")"
   ]
  },
  {
   "cell_type": "code",
   "execution_count": 10,
   "metadata": {},
   "outputs": [
    {
     "data": {
      "text/plain": [
       "<matplotlib.legend.Legend at 0x1b7b97e6f28>"
      ]
     },
     "execution_count": 10,
     "metadata": {},
     "output_type": "execute_result"
    },
    {
     "data": {
      "image/png": "[encoded data removed]",
      "text/plain": [
       "<Figure size 432x288 with 1 Axes>"
      ]
     },
     "metadata": {
      "needs_background": "light"
     },
     "output_type": "display_data"
    }
   ],
   "source": [
    "plt.figure()\n",
    "ax=plt.gcf()\n",
    "data, label=china, \"China\"\n",
    "plt.plot(data['Date_reset'],data['Death_per_day'], label=label)\n",
    "data, label=italy, \"Italy\"\n",
    "plt.plot(data['Date_reset'],data['Death_per_day'], label=label)\n",
    "data, label=us, \"US\"\n",
    "plt.plot(data['Date_reset'],data['Death_per_day'], label=label)\n",
    "ax.legend()"
   ]
  },
  {
   "cell_type": "code",
   "execution_count": null,
   "metadata": {},
   "outputs": [],
   "source": []
  }
 ],
 "metadata": {
  "kernelspec": {
   "display_name": "Python 3",
   "language": "python",
   "name": "python3"
  },
  "language_info": {
   "codemirror_mode": {
    "name": "ipython",
    "version": 3
   },
   "file_extension": ".py",
   "mimetype": "text/x-python",
   "name": "python",
   "nbconvert_exporter": "python",
   "pygments_lexer": "ipython3",
   "version": "3.7.3"
  }
 },
 "nbformat": 4,
 "nbformat_minor": 2
}
